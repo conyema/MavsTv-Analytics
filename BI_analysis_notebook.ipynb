{
  "nbformat": 4,
  "nbformat_minor": 0,
  "metadata": {
    "colab": {
      "provenance": []
    },
    "kernelspec": {
      "name": "python3",
      "display_name": "Python 3"
    },
    "language_info": {
      "name": "python"
    }
  },
  "cells": [
    {
      "cell_type": "markdown",
      "source": [
        "### __Setting up__"
      ],
      "metadata": {
        "id": "nNT_bPBW2kW9"
      }
    },
    {
      "cell_type": "code",
      "execution_count": 24,
      "metadata": {
        "id": "RVnFwFPx2ZWm"
      },
      "outputs": [],
      "source": [
        "# Importing dependencies\n",
        "\n",
        "import pandas as pd\n",
        "import numpy as np\n",
        "import seaborn as sns\n",
        "import matplotlib.pyplot as plt\n",
        "%matplotlib inline\n",
        "sns.set_theme(rc={'figure.figsize':(10,6)})\n",
        "import warnings\n",
        "warnings.filterwarnings('ignore')"
      ]
    },
    {
      "cell_type": "code",
      "source": [
        "# Loading in the datasets\n",
        "\n",
        "customers = pd.read_csv(\"/content/Customers.csv\")\n",
        "subscriptions = pd.read_csv(\"/content/Subscriptions.csv\")\n",
        "views = pd.read_csv(\"/content/Views.csv\")\n",
        "billing = pd.read_csv(\"/content/Billing.csv\")"
      ],
      "metadata": {
        "id": "NNrO2v2FRleU"
      },
      "execution_count": 25,
      "outputs": []
    },
    {
      "cell_type": "markdown",
      "source": [
        "### __Getting to know the Datasets__"
      ],
      "metadata": {
        "id": "5moFySRRSqI3"
      }
    },
    {
      "cell_type": "code",
      "source": [
        "# Getting the last 5 rows of each dataset\n",
        "\n",
        "# I'll put the datasets in a dictionary so I carry out some of the explorations that apply to all the datasets at once, \n",
        "# and not have to repeat myself. I am using a dictionary because, in some cases, I also want to print the name of the dataset.\n",
        "\n",
        "datasets_dict = {\"Customers\":customers, \"Subscription\": subscriptions, \"Views\":views, \"Billing\": billing}\n",
        "\n",
        "for name, dataset in datasets_dict.items():\n",
        "  print(name, \"\\n \\n\", dataset.tail(), \"\\n\")\n",
        "  #print(dataset.tail(), \"\\n\")"
      ],
      "metadata": {
        "colab": {
          "base_uri": "https://localhost:8080/"
        },
        "id": "ljRiCPOKSyz0",
        "outputId": "7f9de644-dffb-48b9-e688-de4ec13612f8"
      },
      "execution_count": 26,
      "outputs": [
        {
          "output_type": "stream",
          "name": "stdout",
          "text": [
            "Customers \n",
            " \n",
            "       CustomerID              Name    State  Age  Gender  \\\n",
            "2995        2996      Griffin Oteh  Plateau   25  Female   \n",
            "2996        2997      Lenore Coker    Delta   57  Female   \n",
            "2997        2998  Brian Adarabioyo     Yobe   44  Female   \n",
            "2998        2999    Quentin Ameobi      Imo   35  Female   \n",
            "2999        3000     Talon Abaribe    Kwara   73  Female   \n",
            "\n",
            "                                               filename  \n",
            "2995  C:\\Users\\Ihekamadu\\Desktop\\DS-ML-AI-Projects\\P...  \n",
            "2996  C:\\Users\\Ihekamadu\\Desktop\\DS-ML-AI-Projects\\P...  \n",
            "2997  C:\\Users\\Ihekamadu\\Desktop\\DS-ML-AI-Projects\\P...  \n",
            "2998  C:\\Users\\Ihekamadu\\Desktop\\DS-ML-AI-Projects\\P...  \n",
            "2999  C:\\Users\\Ihekamadu\\Desktop\\DS-ML-AI-Projects\\P...   \n",
            "\n",
            "Subscription \n",
            " \n",
            "    SubscriptionID     Plan  Monthly_Cost\n",
            "0               1    Basic          2500\n",
            "1               2  Premium          5000\n",
            "2               3    Elite         10000 \n",
            "\n",
            "Views \n",
            " \n",
            "       ViewsID  CustomerID       Genre       Format      Device  \\\n",
            "4995     4996        2687  Talk-Shows     TV-Shows  Mobile-App   \n",
            "4996     4997        2387      Comedy  Live-Events  Mobile-App   \n",
            "4997     4998        2873      Comedy     TV-Shows  Mobile-App   \n",
            "4998     4999        2708     Reality  Live-Events     Browser   \n",
            "4999     5000         194      Action     TV-Shows      Tv-App   \n",
            "\n",
            "      Viewing_Frequency  Total_Viewing_Time  Rating  \n",
            "4995                  3              433034       5  \n",
            "4996                  3               85750       1  \n",
            "4997                  8              313487       3  \n",
            "4998                  6               50048       3  \n",
            "4999                  2              396664       3   \n",
            "\n",
            "Billing \n",
            " \n",
            "       BillingID  CustomerID  SubscriptionID  Duration\n",
            "2995       2996        2996               3         6\n",
            "2996       2997        2997               3        11\n",
            "2997       2998        2998               1         7\n",
            "2998       2999        2999               3         5\n",
            "2999       3000        3000               3         7 \n",
            "\n"
          ]
        }
      ]
    },
    {
      "cell_type": "markdown",
      "source": [
        "A dirty data issue identified. I will be dropping the filename column. \n",
        "\n"
      ],
      "metadata": {
        "id": "y3RPZAEBORou"
      }
    },
    {
      "cell_type": "code",
      "source": [
        "# Getting column information\n",
        "for name, dataset in datasets_dict.items():\n",
        "  print(name, \"\\n\")\n",
        "  print(dataset.info(), \"\\n\")"
      ],
      "metadata": {
        "colab": {
          "base_uri": "https://localhost:8080/"
        },
        "id": "754eIxVxJcR2",
        "outputId": "2d032738-7131-45e0-f7fc-cad5efa680d9"
      },
      "execution_count": 27,
      "outputs": [
        {
          "output_type": "stream",
          "name": "stdout",
          "text": [
            "Customers \n",
            "\n",
            "<class 'pandas.core.frame.DataFrame'>\n",
            "RangeIndex: 3000 entries, 0 to 2999\n",
            "Data columns (total 6 columns):\n",
            " #   Column      Non-Null Count  Dtype \n",
            "---  ------      --------------  ----- \n",
            " 0   CustomerID  3000 non-null   int64 \n",
            " 1   Name        3000 non-null   object\n",
            " 2   State       3000 non-null   object\n",
            " 3   Age         3000 non-null   int64 \n",
            " 4   Gender      3000 non-null   object\n",
            " 5   filename    3000 non-null   object\n",
            "dtypes: int64(2), object(4)\n",
            "memory usage: 140.8+ KB\n",
            "None \n",
            "\n",
            "Subscription \n",
            "\n",
            "<class 'pandas.core.frame.DataFrame'>\n",
            "RangeIndex: 3 entries, 0 to 2\n",
            "Data columns (total 3 columns):\n",
            " #   Column          Non-Null Count  Dtype \n",
            "---  ------          --------------  ----- \n",
            " 0   SubscriptionID  3 non-null      int64 \n",
            " 1   Plan            3 non-null      object\n",
            " 2   Monthly_Cost    3 non-null      int64 \n",
            "dtypes: int64(2), object(1)\n",
            "memory usage: 200.0+ bytes\n",
            "None \n",
            "\n",
            "Views \n",
            "\n",
            "<class 'pandas.core.frame.DataFrame'>\n",
            "RangeIndex: 5000 entries, 0 to 4999\n",
            "Data columns (total 8 columns):\n",
            " #   Column              Non-Null Count  Dtype \n",
            "---  ------              --------------  ----- \n",
            " 0   ViewsID             5000 non-null   int64 \n",
            " 1   CustomerID          5000 non-null   int64 \n",
            " 2   Genre               5000 non-null   object\n",
            " 3   Format              5000 non-null   object\n",
            " 4   Device              5000 non-null   object\n",
            " 5   Viewing_Frequency   5000 non-null   int64 \n",
            " 6   Total_Viewing_Time  5000 non-null   int64 \n",
            " 7   Rating              5000 non-null   int64 \n",
            "dtypes: int64(5), object(3)\n",
            "memory usage: 312.6+ KB\n",
            "None \n",
            "\n",
            "Billing \n",
            "\n",
            "<class 'pandas.core.frame.DataFrame'>\n",
            "RangeIndex: 3000 entries, 0 to 2999\n",
            "Data columns (total 4 columns):\n",
            " #   Column          Non-Null Count  Dtype\n",
            "---  ------          --------------  -----\n",
            " 0   BillingID       3000 non-null   int64\n",
            " 1   CustomerID      3000 non-null   int64\n",
            " 2   SubscriptionID  3000 non-null   int64\n",
            " 3   Duration        3000 non-null   int64\n",
            "dtypes: int64(4)\n",
            "memory usage: 93.9 KB\n",
            "None \n",
            "\n"
          ]
        }
      ]
    },
    {
      "cell_type": "markdown",
      "source": [
        "There's already hint that there are no null values in any of the dataset. However, we can confirm in the data cleaning step."
      ],
      "metadata": {
        "id": "1BWF3mQ-lZAf"
      }
    },
    {
      "cell_type": "code",
      "source": [
        "# Getting summary statistics for numerical values in each dataset.\n",
        "\n",
        "for name, dataset in datasets_dict.items():\n",
        "  print(name, \"\\n\")\n",
        "  print(dataset.drop([colnames for colnames in dataset.columns if \"ID\" in colnames],axis=1).describe(), \"\\n\")\n",
        "# drop here, because the 'ID' columns are only in numeric type. They are for identification and dataset linkage and do not offer any computational relevance to our analysis.\n",
        "#note that I am not dropping inplace. Only dropping to achieve the desired output for just this cell."
      ],
      "metadata": {
        "colab": {
          "base_uri": "https://localhost:8080/"
        },
        "id": "F2C2DbS0JJpA",
        "outputId": "3d89eaa3-2d9c-495b-cd43-a94a6a8442cd"
      },
      "execution_count": 28,
      "outputs": [
        {
          "output_type": "stream",
          "name": "stdout",
          "text": [
            "Customers \n",
            "\n",
            "               Age\n",
            "count  3000.000000\n",
            "mean     46.254000\n",
            "std      16.599799\n",
            "min      18.000000\n",
            "25%      32.000000\n",
            "50%      46.000000\n",
            "75%      61.000000\n",
            "max      75.000000 \n",
            "\n",
            "Subscription \n",
            "\n",
            "       Monthly_Cost\n",
            "count      3.000000\n",
            "mean    5833.333333\n",
            "std     3818.813079\n",
            "min     2500.000000\n",
            "25%     3750.000000\n",
            "50%     5000.000000\n",
            "75%     7500.000000\n",
            "max    10000.000000 \n",
            "\n",
            "Views \n",
            "\n",
            "       Viewing_Frequency  Total_Viewing_Time       Rating\n",
            "count        5000.000000         5000.000000  5000.000000\n",
            "mean            5.479800       298835.144000     3.013200\n",
            "std             3.214227       177674.372424     1.234071\n",
            "min             0.000000            6.000000     1.000000\n",
            "25%             3.000000       140919.500000     2.000000\n",
            "50%             5.000000       295446.500000     3.000000\n",
            "75%             8.000000       454118.250000     4.000000\n",
            "max            11.000000       604790.000000     5.000000 \n",
            "\n",
            "Billing \n",
            "\n",
            "          Duration\n",
            "count  3000.000000\n",
            "mean      6.451667\n",
            "std       3.171806\n",
            "min       1.000000\n",
            "25%       4.000000\n",
            "50%       6.000000\n",
            "75%       9.000000\n",
            "max      12.000000 \n",
            "\n"
          ]
        }
      ]
    },
    {
      "cell_type": "markdown",
      "source": [
        "* Customers\n",
        "\n",
        "The average age of subscribers is 46 but what's interesting is that the minimum age is 18. This may make sense as children or teenagers may not be able to sign up and maintain a cable TV account. Maximum age is 75. It is possible that this dataset is normally skewed. but, we'll see.\n",
        "\n",
        "* Subscription\n",
        "\n",
        "The average cost for a plan is about 5800 naira. A subscriber can get a plan as low as 2500 or as high as 10,000.\n",
        "\n",
        "* Views\n",
        "\n",
        "On average, viewing frequency is 5, with some subscribers not viewing at all. The highest viewing frequency is 11. Total viewing time, on average, is 298835 seconds. Some subscribers view for as short as 6 seconds while there are subscribers that view for as long as 604790 seconds.\n",
        "\n",
        "On average, a show will get a rating of 3. Some shows get as low as 1 and some are rated utmostly high, with the maximum 5.\n",
        "\n",
        "* Billing\n",
        "\n",
        "Customers would typically subscribe for as long as 6 months. However, there are customers that subscribe for only one month and others that are consistent an entire year. "
      ],
      "metadata": {
        "id": "Lu2Ix0E5yj_3"
      }
    },
    {
      "cell_type": "markdown",
      "source": [
        "### __Cleaning the Datasets.__"
      ],
      "metadata": {
        "id": "sU4FGkUXJKXL"
      }
    },
    {
      "cell_type": "code",
      "source": [
        "# Checking for duplicate records in the datasets\n",
        "\n",
        "for name, dataset in datasets_dict.items():\n",
        "  print(name, \"\\n \\n\", dataset.duplicated().sum(), \"\\n\")"
      ],
      "metadata": {
        "colab": {
          "base_uri": "https://localhost:8080/"
        },
        "id": "OfOZjiG7lpRN",
        "outputId": "04cda718-7f7b-43f8-bc63-7c8da187cb59"
      },
      "execution_count": 29,
      "outputs": [
        {
          "output_type": "stream",
          "name": "stdout",
          "text": [
            "Customers \n",
            " \n",
            " 0 \n",
            "\n",
            "Subscription \n",
            " \n",
            " 0 \n",
            "\n",
            "Views \n",
            " \n",
            " 0 \n",
            "\n",
            "Billing \n",
            " \n",
            " 0 \n",
            "\n"
          ]
        }
      ]
    },
    {
      "cell_type": "markdown",
      "source": [
        "There are no duplicate records in any of the datasets."
      ],
      "metadata": {
        "id": "9SY6hdanLF8U"
      }
    },
    {
      "cell_type": "code",
      "source": [
        "# Confirming absence, or otherwise, of missing values.\n",
        "\n",
        "for name, dataset in datasets_dict.items():\n",
        "  print(name, \"\\n \\n\", dataset.isnull().sum(), \"\\n\")"
      ],
      "metadata": {
        "colab": {
          "base_uri": "https://localhost:8080/"
        },
        "id": "GWQsvk-kwcxa",
        "outputId": "0da3616c-b03d-49ea-adc2-68a29628c767"
      },
      "execution_count": 30,
      "outputs": [
        {
          "output_type": "stream",
          "name": "stdout",
          "text": [
            "Customers \n",
            " \n",
            " CustomerID    0\n",
            "Name          0\n",
            "State         0\n",
            "Age           0\n",
            "Gender        0\n",
            "filename      0\n",
            "dtype: int64 \n",
            "\n",
            "Subscription \n",
            " \n",
            " SubscriptionID    0\n",
            "Plan              0\n",
            "Monthly_Cost      0\n",
            "dtype: int64 \n",
            "\n",
            "Views \n",
            " \n",
            " ViewsID               0\n",
            "CustomerID            0\n",
            "Genre                 0\n",
            "Format                0\n",
            "Device                0\n",
            "Viewing_Frequency     0\n",
            "Total_Viewing_Time    0\n",
            "Rating                0\n",
            "dtype: int64 \n",
            "\n",
            "Billing \n",
            " \n",
            " BillingID         0\n",
            "CustomerID        0\n",
            "SubscriptionID    0\n",
            "Duration          0\n",
            "dtype: int64 \n",
            "\n"
          ]
        }
      ]
    },
    {
      "cell_type": "markdown",
      "source": [
        "No missing values in all four datasets.\n",
        "\n",
        "Lastly for now, in the cleaning step, dropping the `filename` column in the 'customers' dataset. It doesn't provide any information relevant to the analysis nor contribute to any aspect of the data transformation process in this work. It only contains a link to the files in the local system where the data came from."
      ],
      "metadata": {
        "id": "5qN53TohMKxv"
      }
    },
    {
      "cell_type": "code",
      "source": [
        "# Dropping `filename`\n",
        "\n",
        "customers.drop(\"filename\", axis= 1, inplace = True)"
      ],
      "metadata": {
        "id": "95_M-F-TMpPL"
      },
      "execution_count": 31,
      "outputs": []
    },
    {
      "cell_type": "markdown",
      "source": [
        "### __Merging the Datasets__"
      ],
      "metadata": {
        "id": "HjP7eFdzqFal"
      }
    },
    {
      "cell_type": "code",
      "source": [
        "# I'll like the customer information to come first in the final dataset, followed by the subscription information \n",
        "# But there's no common column between these two. So, I'll first join the `views` data to the `billing` data,\n",
        "# then join this to `subscription` and join the resulting data to the `customer` data.\n",
        "\n",
        "subs_views_billing = subscriptions.merge(views.merge(billing, how = \"inner\", on = \"CustomerID\"), how = \"inner\", on= \"SubscriptionID\")\n",
        "final_subscriptn_data = customers.merge(subs_views_billing, how = \"inner\", on = \"CustomerID\")\n",
        "#.drop([colnames for colnames in .columns if \"ID\" in colnames],axis=1, inplace = True)\n",
        "# I can still include the `customer` data in the first (nested) merge to get the final dataset but I am doing this seperately to make the code chunk neater.\n",
        "\n",
        "final_subscriptn_data.head()"
      ],
      "metadata": {
        "colab": {
          "base_uri": "https://localhost:8080/",
          "height": 357
        },
        "id": "aGwym88XL3Se",
        "outputId": "4a75030f-7901-4e04-bd07-66f54d6c2f91"
      },
      "execution_count": 32,
      "outputs": [
        {
          "output_type": "execute_result",
          "data": {
            "text/plain": [
              "   CustomerID             Name    State  Age Gender  SubscriptionID     Plan  \\\n",
              "0           1  Jelani Sofoluwe     Akwa   35   Male               1    Basic   \n",
              "1           1  Jelani Sofoluwe     Akwa   35   Male               1    Basic   \n",
              "2           2     Lee Balarabe   Jigawa   66   Male               2  Premium   \n",
              "3           2     Lee Balarabe   Jigawa   66   Male               2  Premium   \n",
              "4           3  Lawrence Akinde  Plateau   64   Male               2  Premium   \n",
              "\n",
              "   Monthly_Cost  ViewsID       Genre       Format   Device  Viewing_Frequency  \\\n",
              "0          2500        1    Religion     TV-Shows  Decoder                  4   \n",
              "1          2500     4197  Talk-Shows  Live-Events   Tv-App                  8   \n",
              "2          5000        2      Comedy  Live-Events   Tv-App                  5   \n",
              "3          5000     3500      Action  Live-Events  Decoder                  6   \n",
              "4          5000        3      Comedy     TV-Shows   Tv-App                 11   \n",
              "\n",
              "   Total_Viewing_Time  Rating  BillingID  Duration  \n",
              "0               72777       4          1         4  \n",
              "1              582325       2          1         4  \n",
              "2              251472       2          2         1  \n",
              "3              550930       4          2         1  \n",
              "4              137732       4          3         3  "
            ],
            "text/html": [
              "\n",
              "  <div id=\"df-a7d206d4-a5eb-4b1e-b93f-46306877766d\">\n",
              "    <div class=\"colab-df-container\">\n",
              "      <div>\n",
              "<style scoped>\n",
              "    .dataframe tbody tr th:only-of-type {\n",
              "        vertical-align: middle;\n",
              "    }\n",
              "\n",
              "    .dataframe tbody tr th {\n",
              "        vertical-align: top;\n",
              "    }\n",
              "\n",
              "    .dataframe thead th {\n",
              "        text-align: right;\n",
              "    }\n",
              "</style>\n",
              "<table border=\"1\" class=\"dataframe\">\n",
              "  <thead>\n",
              "    <tr style=\"text-align: right;\">\n",
              "      <th></th>\n",
              "      <th>CustomerID</th>\n",
              "      <th>Name</th>\n",
              "      <th>State</th>\n",
              "      <th>Age</th>\n",
              "      <th>Gender</th>\n",
              "      <th>SubscriptionID</th>\n",
              "      <th>Plan</th>\n",
              "      <th>Monthly_Cost</th>\n",
              "      <th>ViewsID</th>\n",
              "      <th>Genre</th>\n",
              "      <th>Format</th>\n",
              "      <th>Device</th>\n",
              "      <th>Viewing_Frequency</th>\n",
              "      <th>Total_Viewing_Time</th>\n",
              "      <th>Rating</th>\n",
              "      <th>BillingID</th>\n",
              "      <th>Duration</th>\n",
              "    </tr>\n",
              "  </thead>\n",
              "  <tbody>\n",
              "    <tr>\n",
              "      <th>0</th>\n",
              "      <td>1</td>\n",
              "      <td>Jelani Sofoluwe</td>\n",
              "      <td>Akwa</td>\n",
              "      <td>35</td>\n",
              "      <td>Male</td>\n",
              "      <td>1</td>\n",
              "      <td>Basic</td>\n",
              "      <td>2500</td>\n",
              "      <td>1</td>\n",
              "      <td>Religion</td>\n",
              "      <td>TV-Shows</td>\n",
              "      <td>Decoder</td>\n",
              "      <td>4</td>\n",
              "      <td>72777</td>\n",
              "      <td>4</td>\n",
              "      <td>1</td>\n",
              "      <td>4</td>\n",
              "    </tr>\n",
              "    <tr>\n",
              "      <th>1</th>\n",
              "      <td>1</td>\n",
              "      <td>Jelani Sofoluwe</td>\n",
              "      <td>Akwa</td>\n",
              "      <td>35</td>\n",
              "      <td>Male</td>\n",
              "      <td>1</td>\n",
              "      <td>Basic</td>\n",
              "      <td>2500</td>\n",
              "      <td>4197</td>\n",
              "      <td>Talk-Shows</td>\n",
              "      <td>Live-Events</td>\n",
              "      <td>Tv-App</td>\n",
              "      <td>8</td>\n",
              "      <td>582325</td>\n",
              "      <td>2</td>\n",
              "      <td>1</td>\n",
              "      <td>4</td>\n",
              "    </tr>\n",
              "    <tr>\n",
              "      <th>2</th>\n",
              "      <td>2</td>\n",
              "      <td>Lee Balarabe</td>\n",
              "      <td>Jigawa</td>\n",
              "      <td>66</td>\n",
              "      <td>Male</td>\n",
              "      <td>2</td>\n",
              "      <td>Premium</td>\n",
              "      <td>5000</td>\n",
              "      <td>2</td>\n",
              "      <td>Comedy</td>\n",
              "      <td>Live-Events</td>\n",
              "      <td>Tv-App</td>\n",
              "      <td>5</td>\n",
              "      <td>251472</td>\n",
              "      <td>2</td>\n",
              "      <td>2</td>\n",
              "      <td>1</td>\n",
              "    </tr>\n",
              "    <tr>\n",
              "      <th>3</th>\n",
              "      <td>2</td>\n",
              "      <td>Lee Balarabe</td>\n",
              "      <td>Jigawa</td>\n",
              "      <td>66</td>\n",
              "      <td>Male</td>\n",
              "      <td>2</td>\n",
              "      <td>Premium</td>\n",
              "      <td>5000</td>\n",
              "      <td>3500</td>\n",
              "      <td>Action</td>\n",
              "      <td>Live-Events</td>\n",
              "      <td>Decoder</td>\n",
              "      <td>6</td>\n",
              "      <td>550930</td>\n",
              "      <td>4</td>\n",
              "      <td>2</td>\n",
              "      <td>1</td>\n",
              "    </tr>\n",
              "    <tr>\n",
              "      <th>4</th>\n",
              "      <td>3</td>\n",
              "      <td>Lawrence Akinde</td>\n",
              "      <td>Plateau</td>\n",
              "      <td>64</td>\n",
              "      <td>Male</td>\n",
              "      <td>2</td>\n",
              "      <td>Premium</td>\n",
              "      <td>5000</td>\n",
              "      <td>3</td>\n",
              "      <td>Comedy</td>\n",
              "      <td>TV-Shows</td>\n",
              "      <td>Tv-App</td>\n",
              "      <td>11</td>\n",
              "      <td>137732</td>\n",
              "      <td>4</td>\n",
              "      <td>3</td>\n",
              "      <td>3</td>\n",
              "    </tr>\n",
              "  </tbody>\n",
              "</table>\n",
              "</div>\n",
              "      <button class=\"colab-df-convert\" onclick=\"convertToInteractive('df-a7d206d4-a5eb-4b1e-b93f-46306877766d')\"\n",
              "              title=\"Convert this dataframe to an interactive table.\"\n",
              "              style=\"display:none;\">\n",
              "        \n",
              "  <svg xmlns=\"http://www.w3.org/2000/svg\" height=\"24px\"viewBox=\"0 0 24 24\"\n",
              "       width=\"24px\">\n",
              "    <path d=\"M0 0h24v24H0V0z\" fill=\"none\"/>\n",
              "    <path d=\"M18.56 5.44l.94 2.06.94-2.06 2.06-.94-2.06-.94-.94-2.06-.94 2.06-2.06.94zm-11 1L8.5 8.5l.94-2.06 2.06-.94-2.06-.94L8.5 2.5l-.94 2.06-2.06.94zm10 10l.94 2.06.94-2.06 2.06-.94-2.06-.94-.94-2.06-.94 2.06-2.06.94z\"/><path d=\"M17.41 7.96l-1.37-1.37c-.4-.4-.92-.59-1.43-.59-.52 0-1.04.2-1.43.59L10.3 9.45l-7.72 7.72c-.78.78-.78 2.05 0 2.83L4 21.41c.39.39.9.59 1.41.59.51 0 1.02-.2 1.41-.59l7.78-7.78 2.81-2.81c.8-.78.8-2.07 0-2.86zM5.41 20L4 18.59l7.72-7.72 1.47 1.35L5.41 20z\"/>\n",
              "  </svg>\n",
              "      </button>\n",
              "      \n",
              "  <style>\n",
              "    .colab-df-container {\n",
              "      display:flex;\n",
              "      flex-wrap:wrap;\n",
              "      gap: 12px;\n",
              "    }\n",
              "\n",
              "    .colab-df-convert {\n",
              "      background-color: #E8F0FE;\n",
              "      border: none;\n",
              "      border-radius: 50%;\n",
              "      cursor: pointer;\n",
              "      display: none;\n",
              "      fill: #1967D2;\n",
              "      height: 32px;\n",
              "      padding: 0 0 0 0;\n",
              "      width: 32px;\n",
              "    }\n",
              "\n",
              "    .colab-df-convert:hover {\n",
              "      background-color: #E2EBFA;\n",
              "      box-shadow: 0px 1px 2px rgba(60, 64, 67, 0.3), 0px 1px 3px 1px rgba(60, 64, 67, 0.15);\n",
              "      fill: #174EA6;\n",
              "    }\n",
              "\n",
              "    [theme=dark] .colab-df-convert {\n",
              "      background-color: #3B4455;\n",
              "      fill: #D2E3FC;\n",
              "    }\n",
              "\n",
              "    [theme=dark] .colab-df-convert:hover {\n",
              "      background-color: #434B5C;\n",
              "      box-shadow: 0px 1px 3px 1px rgba(0, 0, 0, 0.15);\n",
              "      filter: drop-shadow(0px 1px 2px rgba(0, 0, 0, 0.3));\n",
              "      fill: #FFFFFF;\n",
              "    }\n",
              "  </style>\n",
              "\n",
              "      <script>\n",
              "        const buttonEl =\n",
              "          document.querySelector('#df-a7d206d4-a5eb-4b1e-b93f-46306877766d button.colab-df-convert');\n",
              "        buttonEl.style.display =\n",
              "          google.colab.kernel.accessAllowed ? 'block' : 'none';\n",
              "\n",
              "        async function convertToInteractive(key) {\n",
              "          const element = document.querySelector('#df-a7d206d4-a5eb-4b1e-b93f-46306877766d');\n",
              "          const dataTable =\n",
              "            await google.colab.kernel.invokeFunction('convertToInteractive',\n",
              "                                                     [key], {});\n",
              "          if (!dataTable) return;\n",
              "\n",
              "          const docLinkHtml = 'Like what you see? Visit the ' +\n",
              "            '<a target=\"_blank\" href=https://colab.research.google.com/notebooks/data_table.ipynb>data table notebook</a>'\n",
              "            + ' to learn more about interactive tables.';\n",
              "          element.innerHTML = '';\n",
              "          dataTable['output_type'] = 'display_data';\n",
              "          await google.colab.output.renderOutput(dataTable, element);\n",
              "          const docLink = document.createElement('div');\n",
              "          docLink.innerHTML = docLinkHtml;\n",
              "          element.appendChild(docLink);\n",
              "        }\n",
              "      </script>\n",
              "    </div>\n",
              "  </div>\n",
              "  "
            ]
          },
          "metadata": {},
          "execution_count": 32
        }
      ]
    },
    {
      "cell_type": "markdown",
      "source": [
        "From the merge, notice the value, 'Akwa', in the state column? There's no state in  Nigeria called 'Akwa'. The closest to this name, is 'Awka', the capital of Anambra state.\n",
        "\n",
        "A solution will be to add 'Akwa' subscribers to those from Anambra. "
      ],
      "metadata": {
        "id": "3WR9y-yvWj6h"
      }
    },
    {
      "cell_type": "code",
      "source": [
        "# Renaming 'Akwa' as 'Anambra' in ``State` column\n",
        "\n",
        "final_subscriptn_data.loc[final_subscriptn_data.State == \"Akwa\", \"State\"] = \"Anambra\"\n",
        "\n",
        "# Confirming the change\n",
        "\n",
        "final_subscriptn_data[final_subscriptn_data.State == \"Akwa\"]"
      ],
      "metadata": {
        "colab": {
          "base_uri": "https://localhost:8080/",
          "height": 113
        },
        "id": "B2JtUoC-YJfF",
        "outputId": "cb4a4cdf-18f9-4119-b338-5f74901d16f6"
      },
      "execution_count": 33,
      "outputs": [
        {
          "output_type": "execute_result",
          "data": {
            "text/plain": [
              "Empty DataFrame\n",
              "Columns: [CustomerID, Name, State, Age, Gender, SubscriptionID, Plan, Monthly_Cost, ViewsID, Genre, Format, Device, Viewing_Frequency, Total_Viewing_Time, Rating, BillingID, Duration]\n",
              "Index: []"
            ],
            "text/html": [
              "\n",
              "  <div id=\"df-5c278058-97f8-4109-a8c8-737e730ad8c5\">\n",
              "    <div class=\"colab-df-container\">\n",
              "      <div>\n",
              "<style scoped>\n",
              "    .dataframe tbody tr th:only-of-type {\n",
              "        vertical-align: middle;\n",
              "    }\n",
              "\n",
              "    .dataframe tbody tr th {\n",
              "        vertical-align: top;\n",
              "    }\n",
              "\n",
              "    .dataframe thead th {\n",
              "        text-align: right;\n",
              "    }\n",
              "</style>\n",
              "<table border=\"1\" class=\"dataframe\">\n",
              "  <thead>\n",
              "    <tr style=\"text-align: right;\">\n",
              "      <th></th>\n",
              "      <th>CustomerID</th>\n",
              "      <th>Name</th>\n",
              "      <th>State</th>\n",
              "      <th>Age</th>\n",
              "      <th>Gender</th>\n",
              "      <th>SubscriptionID</th>\n",
              "      <th>Plan</th>\n",
              "      <th>Monthly_Cost</th>\n",
              "      <th>ViewsID</th>\n",
              "      <th>Genre</th>\n",
              "      <th>Format</th>\n",
              "      <th>Device</th>\n",
              "      <th>Viewing_Frequency</th>\n",
              "      <th>Total_Viewing_Time</th>\n",
              "      <th>Rating</th>\n",
              "      <th>BillingID</th>\n",
              "      <th>Duration</th>\n",
              "    </tr>\n",
              "  </thead>\n",
              "  <tbody>\n",
              "  </tbody>\n",
              "</table>\n",
              "</div>\n",
              "      <button class=\"colab-df-convert\" onclick=\"convertToInteractive('df-5c278058-97f8-4109-a8c8-737e730ad8c5')\"\n",
              "              title=\"Convert this dataframe to an interactive table.\"\n",
              "              style=\"display:none;\">\n",
              "        \n",
              "  <svg xmlns=\"http://www.w3.org/2000/svg\" height=\"24px\"viewBox=\"0 0 24 24\"\n",
              "       width=\"24px\">\n",
              "    <path d=\"M0 0h24v24H0V0z\" fill=\"none\"/>\n",
              "    <path d=\"M18.56 5.44l.94 2.06.94-2.06 2.06-.94-2.06-.94-.94-2.06-.94 2.06-2.06.94zm-11 1L8.5 8.5l.94-2.06 2.06-.94-2.06-.94L8.5 2.5l-.94 2.06-2.06.94zm10 10l.94 2.06.94-2.06 2.06-.94-2.06-.94-.94-2.06-.94 2.06-2.06.94z\"/><path d=\"M17.41 7.96l-1.37-1.37c-.4-.4-.92-.59-1.43-.59-.52 0-1.04.2-1.43.59L10.3 9.45l-7.72 7.72c-.78.78-.78 2.05 0 2.83L4 21.41c.39.39.9.59 1.41.59.51 0 1.02-.2 1.41-.59l7.78-7.78 2.81-2.81c.8-.78.8-2.07 0-2.86zM5.41 20L4 18.59l7.72-7.72 1.47 1.35L5.41 20z\"/>\n",
              "  </svg>\n",
              "      </button>\n",
              "      \n",
              "  <style>\n",
              "    .colab-df-container {\n",
              "      display:flex;\n",
              "      flex-wrap:wrap;\n",
              "      gap: 12px;\n",
              "    }\n",
              "\n",
              "    .colab-df-convert {\n",
              "      background-color: #E8F0FE;\n",
              "      border: none;\n",
              "      border-radius: 50%;\n",
              "      cursor: pointer;\n",
              "      display: none;\n",
              "      fill: #1967D2;\n",
              "      height: 32px;\n",
              "      padding: 0 0 0 0;\n",
              "      width: 32px;\n",
              "    }\n",
              "\n",
              "    .colab-df-convert:hover {\n",
              "      background-color: #E2EBFA;\n",
              "      box-shadow: 0px 1px 2px rgba(60, 64, 67, 0.3), 0px 1px 3px 1px rgba(60, 64, 67, 0.15);\n",
              "      fill: #174EA6;\n",
              "    }\n",
              "\n",
              "    [theme=dark] .colab-df-convert {\n",
              "      background-color: #3B4455;\n",
              "      fill: #D2E3FC;\n",
              "    }\n",
              "\n",
              "    [theme=dark] .colab-df-convert:hover {\n",
              "      background-color: #434B5C;\n",
              "      box-shadow: 0px 1px 3px 1px rgba(0, 0, 0, 0.15);\n",
              "      filter: drop-shadow(0px 1px 2px rgba(0, 0, 0, 0.3));\n",
              "      fill: #FFFFFF;\n",
              "    }\n",
              "  </style>\n",
              "\n",
              "      <script>\n",
              "        const buttonEl =\n",
              "          document.querySelector('#df-5c278058-97f8-4109-a8c8-737e730ad8c5 button.colab-df-convert');\n",
              "        buttonEl.style.display =\n",
              "          google.colab.kernel.accessAllowed ? 'block' : 'none';\n",
              "\n",
              "        async function convertToInteractive(key) {\n",
              "          const element = document.querySelector('#df-5c278058-97f8-4109-a8c8-737e730ad8c5');\n",
              "          const dataTable =\n",
              "            await google.colab.kernel.invokeFunction('convertToInteractive',\n",
              "                                                     [key], {});\n",
              "          if (!dataTable) return;\n",
              "\n",
              "          const docLinkHtml = 'Like what you see? Visit the ' +\n",
              "            '<a target=\"_blank\" href=https://colab.research.google.com/notebooks/data_table.ipynb>data table notebook</a>'\n",
              "            + ' to learn more about interactive tables.';\n",
              "          element.innerHTML = '';\n",
              "          dataTable['output_type'] = 'display_data';\n",
              "          await google.colab.output.renderOutput(dataTable, element);\n",
              "          const docLink = document.createElement('div');\n",
              "          docLink.innerHTML = docLinkHtml;\n",
              "          element.appendChild(docLink);\n",
              "        }\n",
              "      </script>\n",
              "    </div>\n",
              "  </div>\n",
              "  "
            ]
          },
          "metadata": {},
          "execution_count": 33
        }
      ]
    },
    {
      "cell_type": "markdown",
      "source": [
        "### __Exploring the merged data (EDA)__"
      ],
      "metadata": {
        "id": "hO4rf_6rOGQG"
      }
    },
    {
      "cell_type": "code",
      "source": [
        "# Getting an idea of the number of unique customers on the platform. Using value_counts() so as to reveal any other insight that may be important.\n",
        "\n",
        "final_subscriptn_data.CustomerID.value_counts()"
      ],
      "metadata": {
        "id": "AIfxs9cnqyZm",
        "colab": {
          "base_uri": "https://localhost:8080/"
        },
        "outputId": "f691653e-ab80-4639-ce17-6d9dfbb7006f"
      },
      "execution_count": 34,
      "outputs": [
        {
          "output_type": "execute_result",
          "data": {
            "text/plain": [
              "115     6\n",
              "1706    5\n",
              "2291    5\n",
              "1214    5\n",
              "1094    5\n",
              "       ..\n",
              "1295    1\n",
              "1292    1\n",
              "1290    1\n",
              "1288    1\n",
              "3000    1\n",
              "Name: CustomerID, Length: 3000, dtype: int64"
            ]
          },
          "metadata": {},
          "execution_count": 34
        }
      ]
    },
    {
      "cell_type": "markdown",
      "source": [
        "There are three thousand unique customers on the cable TV platform. \n",
        "\n",
        "The customer watching the most shows, 6, is the one with customerid '115'. Let's find out the name and profile of this customer."
      ],
      "metadata": {
        "id": "Hoe3W6kqn_tK"
      }
    },
    {
      "cell_type": "code",
      "source": [
        "final_subscriptn_data[final_subscriptn_data.CustomerID == 115]"
      ],
      "metadata": {
        "colab": {
          "base_uri": "https://localhost:8080/",
          "height": 405
        },
        "id": "G4rX5aLswvkG",
        "outputId": "79fecc25-62a6-42a3-839a-7c2b412fd832"
      },
      "execution_count": 35,
      "outputs": [
        {
          "output_type": "execute_result",
          "data": {
            "text/plain": [
              "     CustomerID           Name    State  Age Gender  SubscriptionID     Plan  \\\n",
              "197         115  Shaine Abagun  Plateau   51   Male               2  Premium   \n",
              "198         115  Shaine Abagun  Plateau   51   Male               2  Premium   \n",
              "199         115  Shaine Abagun  Plateau   51   Male               2  Premium   \n",
              "200         115  Shaine Abagun  Plateau   51   Male               2  Premium   \n",
              "201         115  Shaine Abagun  Plateau   51   Male               2  Premium   \n",
              "202         115  Shaine Abagun  Plateau   51   Male               2  Premium   \n",
              "\n",
              "     Monthly_Cost  ViewsID          Genre       Format      Device  \\\n",
              "197          5000      115         Comedy     TV-Shows  Mobile-App   \n",
              "198          5000     3876         Action  Live-Events      Tv-App   \n",
              "199          5000     3978          Music     TV-Shows     Decoder   \n",
              "200          5000     4628  Documentaries  Live-Events     Decoder   \n",
              "201          5000     4800     Talk-Shows     TV-Shows     Decoder   \n",
              "202          5000     4819         Comedy     TV-Shows      Tv-App   \n",
              "\n",
              "     Viewing_Frequency  Total_Viewing_Time  Rating  BillingID  Duration  \n",
              "197                  8              180380       1        115        10  \n",
              "198                  4              556373       2        115        10  \n",
              "199                 10              224497       3        115        10  \n",
              "200                  4              166758       4        115        10  \n",
              "201                  8              397647       4        115        10  \n",
              "202                  9              321909       4        115        10  "
            ],
            "text/html": [
              "\n",
              "  <div id=\"df-f7f6f0d0-2d1b-4e8e-9bef-d8431a008891\">\n",
              "    <div class=\"colab-df-container\">\n",
              "      <div>\n",
              "<style scoped>\n",
              "    .dataframe tbody tr th:only-of-type {\n",
              "        vertical-align: middle;\n",
              "    }\n",
              "\n",
              "    .dataframe tbody tr th {\n",
              "        vertical-align: top;\n",
              "    }\n",
              "\n",
              "    .dataframe thead th {\n",
              "        text-align: right;\n",
              "    }\n",
              "</style>\n",
              "<table border=\"1\" class=\"dataframe\">\n",
              "  <thead>\n",
              "    <tr style=\"text-align: right;\">\n",
              "      <th></th>\n",
              "      <th>CustomerID</th>\n",
              "      <th>Name</th>\n",
              "      <th>State</th>\n",
              "      <th>Age</th>\n",
              "      <th>Gender</th>\n",
              "      <th>SubscriptionID</th>\n",
              "      <th>Plan</th>\n",
              "      <th>Monthly_Cost</th>\n",
              "      <th>ViewsID</th>\n",
              "      <th>Genre</th>\n",
              "      <th>Format</th>\n",
              "      <th>Device</th>\n",
              "      <th>Viewing_Frequency</th>\n",
              "      <th>Total_Viewing_Time</th>\n",
              "      <th>Rating</th>\n",
              "      <th>BillingID</th>\n",
              "      <th>Duration</th>\n",
              "    </tr>\n",
              "  </thead>\n",
              "  <tbody>\n",
              "    <tr>\n",
              "      <th>197</th>\n",
              "      <td>115</td>\n",
              "      <td>Shaine Abagun</td>\n",
              "      <td>Plateau</td>\n",
              "      <td>51</td>\n",
              "      <td>Male</td>\n",
              "      <td>2</td>\n",
              "      <td>Premium</td>\n",
              "      <td>5000</td>\n",
              "      <td>115</td>\n",
              "      <td>Comedy</td>\n",
              "      <td>TV-Shows</td>\n",
              "      <td>Mobile-App</td>\n",
              "      <td>8</td>\n",
              "      <td>180380</td>\n",
              "      <td>1</td>\n",
              "      <td>115</td>\n",
              "      <td>10</td>\n",
              "    </tr>\n",
              "    <tr>\n",
              "      <th>198</th>\n",
              "      <td>115</td>\n",
              "      <td>Shaine Abagun</td>\n",
              "      <td>Plateau</td>\n",
              "      <td>51</td>\n",
              "      <td>Male</td>\n",
              "      <td>2</td>\n",
              "      <td>Premium</td>\n",
              "      <td>5000</td>\n",
              "      <td>3876</td>\n",
              "      <td>Action</td>\n",
              "      <td>Live-Events</td>\n",
              "      <td>Tv-App</td>\n",
              "      <td>4</td>\n",
              "      <td>556373</td>\n",
              "      <td>2</td>\n",
              "      <td>115</td>\n",
              "      <td>10</td>\n",
              "    </tr>\n",
              "    <tr>\n",
              "      <th>199</th>\n",
              "      <td>115</td>\n",
              "      <td>Shaine Abagun</td>\n",
              "      <td>Plateau</td>\n",
              "      <td>51</td>\n",
              "      <td>Male</td>\n",
              "      <td>2</td>\n",
              "      <td>Premium</td>\n",
              "      <td>5000</td>\n",
              "      <td>3978</td>\n",
              "      <td>Music</td>\n",
              "      <td>TV-Shows</td>\n",
              "      <td>Decoder</td>\n",
              "      <td>10</td>\n",
              "      <td>224497</td>\n",
              "      <td>3</td>\n",
              "      <td>115</td>\n",
              "      <td>10</td>\n",
              "    </tr>\n",
              "    <tr>\n",
              "      <th>200</th>\n",
              "      <td>115</td>\n",
              "      <td>Shaine Abagun</td>\n",
              "      <td>Plateau</td>\n",
              "      <td>51</td>\n",
              "      <td>Male</td>\n",
              "      <td>2</td>\n",
              "      <td>Premium</td>\n",
              "      <td>5000</td>\n",
              "      <td>4628</td>\n",
              "      <td>Documentaries</td>\n",
              "      <td>Live-Events</td>\n",
              "      <td>Decoder</td>\n",
              "      <td>4</td>\n",
              "      <td>166758</td>\n",
              "      <td>4</td>\n",
              "      <td>115</td>\n",
              "      <td>10</td>\n",
              "    </tr>\n",
              "    <tr>\n",
              "      <th>201</th>\n",
              "      <td>115</td>\n",
              "      <td>Shaine Abagun</td>\n",
              "      <td>Plateau</td>\n",
              "      <td>51</td>\n",
              "      <td>Male</td>\n",
              "      <td>2</td>\n",
              "      <td>Premium</td>\n",
              "      <td>5000</td>\n",
              "      <td>4800</td>\n",
              "      <td>Talk-Shows</td>\n",
              "      <td>TV-Shows</td>\n",
              "      <td>Decoder</td>\n",
              "      <td>8</td>\n",
              "      <td>397647</td>\n",
              "      <td>4</td>\n",
              "      <td>115</td>\n",
              "      <td>10</td>\n",
              "    </tr>\n",
              "    <tr>\n",
              "      <th>202</th>\n",
              "      <td>115</td>\n",
              "      <td>Shaine Abagun</td>\n",
              "      <td>Plateau</td>\n",
              "      <td>51</td>\n",
              "      <td>Male</td>\n",
              "      <td>2</td>\n",
              "      <td>Premium</td>\n",
              "      <td>5000</td>\n",
              "      <td>4819</td>\n",
              "      <td>Comedy</td>\n",
              "      <td>TV-Shows</td>\n",
              "      <td>Tv-App</td>\n",
              "      <td>9</td>\n",
              "      <td>321909</td>\n",
              "      <td>4</td>\n",
              "      <td>115</td>\n",
              "      <td>10</td>\n",
              "    </tr>\n",
              "  </tbody>\n",
              "</table>\n",
              "</div>\n",
              "      <button class=\"colab-df-convert\" onclick=\"convertToInteractive('df-f7f6f0d0-2d1b-4e8e-9bef-d8431a008891')\"\n",
              "              title=\"Convert this dataframe to an interactive table.\"\n",
              "              style=\"display:none;\">\n",
              "        \n",
              "  <svg xmlns=\"http://www.w3.org/2000/svg\" height=\"24px\"viewBox=\"0 0 24 24\"\n",
              "       width=\"24px\">\n",
              "    <path d=\"M0 0h24v24H0V0z\" fill=\"none\"/>\n",
              "    <path d=\"M18.56 5.44l.94 2.06.94-2.06 2.06-.94-2.06-.94-.94-2.06-.94 2.06-2.06.94zm-11 1L8.5 8.5l.94-2.06 2.06-.94-2.06-.94L8.5 2.5l-.94 2.06-2.06.94zm10 10l.94 2.06.94-2.06 2.06-.94-2.06-.94-.94-2.06-.94 2.06-2.06.94z\"/><path d=\"M17.41 7.96l-1.37-1.37c-.4-.4-.92-.59-1.43-.59-.52 0-1.04.2-1.43.59L10.3 9.45l-7.72 7.72c-.78.78-.78 2.05 0 2.83L4 21.41c.39.39.9.59 1.41.59.51 0 1.02-.2 1.41-.59l7.78-7.78 2.81-2.81c.8-.78.8-2.07 0-2.86zM5.41 20L4 18.59l7.72-7.72 1.47 1.35L5.41 20z\"/>\n",
              "  </svg>\n",
              "      </button>\n",
              "      \n",
              "  <style>\n",
              "    .colab-df-container {\n",
              "      display:flex;\n",
              "      flex-wrap:wrap;\n",
              "      gap: 12px;\n",
              "    }\n",
              "\n",
              "    .colab-df-convert {\n",
              "      background-color: #E8F0FE;\n",
              "      border: none;\n",
              "      border-radius: 50%;\n",
              "      cursor: pointer;\n",
              "      display: none;\n",
              "      fill: #1967D2;\n",
              "      height: 32px;\n",
              "      padding: 0 0 0 0;\n",
              "      width: 32px;\n",
              "    }\n",
              "\n",
              "    .colab-df-convert:hover {\n",
              "      background-color: #E2EBFA;\n",
              "      box-shadow: 0px 1px 2px rgba(60, 64, 67, 0.3), 0px 1px 3px 1px rgba(60, 64, 67, 0.15);\n",
              "      fill: #174EA6;\n",
              "    }\n",
              "\n",
              "    [theme=dark] .colab-df-convert {\n",
              "      background-color: #3B4455;\n",
              "      fill: #D2E3FC;\n",
              "    }\n",
              "\n",
              "    [theme=dark] .colab-df-convert:hover {\n",
              "      background-color: #434B5C;\n",
              "      box-shadow: 0px 1px 3px 1px rgba(0, 0, 0, 0.15);\n",
              "      filter: drop-shadow(0px 1px 2px rgba(0, 0, 0, 0.3));\n",
              "      fill: #FFFFFF;\n",
              "    }\n",
              "  </style>\n",
              "\n",
              "      <script>\n",
              "        const buttonEl =\n",
              "          document.querySelector('#df-f7f6f0d0-2d1b-4e8e-9bef-d8431a008891 button.colab-df-convert');\n",
              "        buttonEl.style.display =\n",
              "          google.colab.kernel.accessAllowed ? 'block' : 'none';\n",
              "\n",
              "        async function convertToInteractive(key) {\n",
              "          const element = document.querySelector('#df-f7f6f0d0-2d1b-4e8e-9bef-d8431a008891');\n",
              "          const dataTable =\n",
              "            await google.colab.kernel.invokeFunction('convertToInteractive',\n",
              "                                                     [key], {});\n",
              "          if (!dataTable) return;\n",
              "\n",
              "          const docLinkHtml = 'Like what you see? Visit the ' +\n",
              "            '<a target=\"_blank\" href=https://colab.research.google.com/notebooks/data_table.ipynb>data table notebook</a>'\n",
              "            + ' to learn more about interactive tables.';\n",
              "          element.innerHTML = '';\n",
              "          dataTable['output_type'] = 'display_data';\n",
              "          await google.colab.output.renderOutput(dataTable, element);\n",
              "          const docLink = document.createElement('div');\n",
              "          docLink.innerHTML = docLinkHtml;\n",
              "          element.appendChild(docLink);\n",
              "        }\n",
              "      </script>\n",
              "    </div>\n",
              "  </div>\n",
              "  "
            ]
          },
          "metadata": {},
          "execution_count": 35
        }
      ]
    },
    {
      "cell_type": "markdown",
      "source": [
        "The customer's name is Shaine Abagun. He is male, from Plateau state, 51 years old and, a premium subscriber (is 'premium'the most expensive plan? We'll confirm). \n",
        "\n",
        "He watches programs around comedy, action, music, documentaries, and Talk-Shows. Of these shows, the subscrber watches music the most. He is generally a frequent viewer of the shows across these genres, with action and documentary being the genres he watches the least frequently. He is currently on a 10 month-subscription. Shaine Abagun seems like a loyal subscriber.\n",
        "\n",
        "How many other customers are on the premium plan and how many are on other plans? \n",
        "\n",
        "We'll also confirm or disprove that premium is the most expensive plan."
      ],
      "metadata": {
        "id": "GfqZPuJTyyNh"
      }
    },
    {
      "cell_type": "markdown",
      "source": [
        "__Which plan is the most subscribed?__\n",
        "\n"
      ],
      "metadata": {
        "id": "AlGDVM_-5ZFD"
      }
    },
    {
      "cell_type": "code",
      "source": [
        "# Counting number of subscribers on each plan\n",
        "\n",
        "sns.barplot(data = final_subscriptn_data[[\"CustomerID\", \"Plan\"]].drop_duplicates().groupby(\"Plan\")[\"CustomerID\"].count().reset_index().rename({\"CustomerID\": \"Num_of_Subscribers\"}, axis = 1).sort_values(\"Num_of_Subscribers\", ascending = False), \n",
        "            x = \"Plan\", \n",
        "            y = \"Num_of_Subscribers\") \n",
        "\n",
        "# Subsetting out the two needed columns for this insight and dropping duplicate records because subscription plan was repeated for each customer in the original, combined dataset.\n",
        "# We need it to be counted uniquely for each customer."
      ],
      "metadata": {
        "colab": {
          "base_uri": "https://localhost:8080/",
          "height": 411
        },
        "id": "hVKS8MPV5PA7",
        "outputId": "aaae0971-aeec-4a93-aea4-9816d3d6f6a6"
      },
      "execution_count": 36,
      "outputs": [
        {
          "output_type": "execute_result",
          "data": {
            "text/plain": [
              "<matplotlib.axes._subplots.AxesSubplot at 0x7f7fa8a18d60>"
            ]
          },
          "metadata": {},
          "execution_count": 36
        },
        {
          "output_type": "display_data",
          "data": {
            "text/plain": [
              "<Figure size 720x432 with 1 Axes>"
            ],
            "image/png": "[encoded data removed]"
          },
          "metadata": {}
        }
      ]
    },
    {
      "cell_type": "markdown",
      "source": [
        "The premium subscription plan has the highest number of subscribers, so, it is most preferred among customers. There are 1516 other premium subscribers alongside Shaine Abagun. The basic plan has the least, with 738 subscribers."
      ],
      "metadata": {
        "id": "CTEmiNDp6YON"
      }
    },
    {
      "cell_type": "markdown",
      "source": [
        "__Which plan is the most expensive?__"
      ],
      "metadata": {
        "id": "BIvxKtL063Z2"
      }
    },
    {
      "cell_type": "code",
      "source": [
        "# Most expensive subscription plan\n",
        "\n",
        "sns.barplot(data= final_subscriptn_data.groupby(\"Plan\")[[\"Monthly_Cost\"]].mean().reset_index().sort_values(\"Monthly_Cost\", ascending = False), \n",
        "            x= \"Plan\", \n",
        "            y= \"Monthly_Cost\")"
      ],
      "metadata": {
        "colab": {
          "base_uri": "https://localhost:8080/",
          "height": 411
        },
        "id": "bjxyJnMn3QHP",
        "outputId": "41355ce7-7afd-4d56-fd30-369408cec8d5"
      },
      "execution_count": 37,
      "outputs": [
        {
          "output_type": "execute_result",
          "data": {
            "text/plain": [
              "<matplotlib.axes._subplots.AxesSubplot at 0x7f7fa38fb340>"
            ]
          },
          "metadata": {},
          "execution_count": 37
        },
        {
          "output_type": "display_data",
          "data": {
            "text/plain": [
              "<Figure size 720x432 with 1 Axes>"
            ],
            "image/png": "[encoded data removed]"
          },
          "metadata": {}
        }
      ]
    },
    {
      "cell_type": "markdown",
      "source": [
        "The most expensive plan is the elite plan. This may provide an explanation for the popularity of the premium subscription amongst subscribers. They probably do not want to purchase a lower plan like basic, that, most likely, offers much less shows than the others but also do not want to break the bank to purchase an 'elite' subscription. Although, the chart before this one shows, surprisingly, that elite subscription too surpased basic, just slightly in this case."
      ],
      "metadata": {
        "id": "IedzeKt47Jhh"
      }
    },
    {
      "cell_type": "markdown",
      "source": [
        "__Does the choice of subscription plan differ by gender?__"
      ],
      "metadata": {
        "id": "nvWhhaIMnac8"
      }
    },
    {
      "cell_type": "code",
      "source": [
        "sns.barplot(data = final_subscriptn_data[[\"CustomerID\", \"Plan\", \"Gender\"]].drop_duplicates().groupby([\"Plan\", \"Gender\"])[\"CustomerID\"].count().reset_index().rename({\"CustomerID\": \"Number_of_Subscribers\"}, axis = 1).sort_values(\"Number_of_Subscribers\", ascending = False), \n",
        "            x = \"Plan\", \n",
        "            y = \"Number_of_Subscribers\", hue = \"Gender\")"
      ],
      "metadata": {
        "colab": {
          "base_uri": "https://localhost:8080/",
          "height": 411
        },
        "id": "KVMqqW7FmR3j",
        "outputId": "61639640-8e2c-40cf-c663-599590ef47f4"
      },
      "execution_count": 38,
      "outputs": [
        {
          "output_type": "execute_result",
          "data": {
            "text/plain": [
              "<matplotlib.axes._subplots.AxesSubplot at 0x7f7fa3850310>"
            ]
          },
          "metadata": {},
          "execution_count": 38
        },
        {
          "output_type": "display_data",
          "data": {
            "text/plain": [
              "<Figure size 720x432 with 1 Axes>"
            ],
            "image/png": "[encoded data removed]"
          },
          "metadata": {}
        }
      ]
    },
    {
      "cell_type": "markdown",
      "source": [
        "Generally, the choice of subscription plan is nearly the same for male and female. Although noticable, but slight difference is seen with the premium and elite plans for which, there are slightly more male than female subscribers and slightly more female than male subscribers respectively. "
      ],
      "metadata": {
        "id": "At4XnFSGs8fT"
      }
    },
    {
      "cell_type": "markdown",
      "source": [
        "__Which states have the highest number of subscribers for each plan?__"
      ],
      "metadata": {
        "id": "IGQlXR--RAUV"
      }
    },
    {
      "cell_type": "code",
      "source": [
        "# Due to the number of states, let's subset by each plan to check the number of subscribers on each plan by state.\n",
        "\n",
        "# Grouping ans aggregating number of subscribers on each plan by state into new variables.\n",
        "\n",
        "elite_state_subs = final_subscriptn_data[[\"CustomerID\", \"Plan\", \"State\"]].drop_duplicates()[final_subscriptn_data[\"Plan\"] == \"Elite\"].groupby([\"Plan\", \"State\"])[[\"CustomerID\"]].count().reset_index().rename({\"CustomerID\": \"Number_of_Subscribers\"}, axis = 1).sort_values(\"Number_of_Subscribers\", ascending = False)\n",
        "premium_state_subs = final_subscriptn_data[[\"CustomerID\", \"Plan\", \"State\"]].drop_duplicates()[final_subscriptn_data[\"Plan\"] == \"Premium\"].groupby([\"Plan\", \"State\"])[[\"CustomerID\"]].count().reset_index().rename({\"CustomerID\": \"Number_of_Subscribers\"}, axis = 1).sort_values(\"Number_of_Subscribers\", ascending = False)\n",
        "basic_state_subs = final_subscriptn_data[[\"CustomerID\", \"Plan\", \"State\"]].drop_duplicates()[final_subscriptn_data[\"Plan\"] == \"Basic\"].groupby([\"Plan\", \"State\"])[[\"CustomerID\"]].count().reset_index().rename({\"CustomerID\": \"Number_of_Subscribers\"}, axis = 1).sort_values(\"Number_of_Subscribers\", ascending = False)\n",
        "\n",
        "fig, axes = plt.subplots(3, 1, figsize=(12, 12))\n",
        "\n",
        "sns.barplot(data= elite_state_subs, x = \"State\", y = \"Number_of_Subscribers\", ax= axes[0])\n",
        "sns.barplot(data= premium_state_subs, x = \"State\", y = \"Number_of_Subscribers\", ax= axes[1])\n",
        "sns.barplot(data= basic_state_subs, x = \"State\", y = \"Number_of_Subscribers\", ax= axes[2])\n",
        "\n",
        "fig.suptitle(\"Number of Subscribers on each Plan by State\", y = 1.02, fontsize = 20)\n",
        "\n",
        "axes[0].set_xticklabels(labels = elite_state_subs.State, rotation=60)\n",
        "axes[1].set_xticklabels(labels = premium_state_subs.State, rotation=60)\n",
        "axes[2].set_xticklabels(labels = basic_state_subs.State, rotation=60)\n",
        "\n",
        "axes[0].set_title(\"Elite plan\")\n",
        "axes[1].set_title(\"Premium plan\")\n",
        "axes[2].set_title(\"Basic plan\")\n",
        "\n",
        "fig.tight_layout()\n",
        "\n",
        "plt.show()\n"
      ],
      "metadata": {
        "colab": {
          "base_uri": "https://localhost:8080/",
          "height": 899
        },
        "outputId": "95d37119-1cf9-4a52-d548-501adbb2614a",
        "id": "PqnjeL7Vj4Lp"
      },
      "execution_count": 39,
      "outputs": [
        {
          "output_type": "display_data",
          "data": {
            "text/plain": [
              "<Figure size 864x864 with 3 Axes>"
            ],
            "image/png": "[encoded data removed]"
          },
          "metadata": {}
        }
      ]
    },
    {
      "cell_type": "markdown",
      "source": [
        "* Anambra has the most elite, premium and basic subscribers. \n",
        "\n",
        "* Zamfara has the least number for both elite and basic plans while Abia beats Zamfara to the last position for number of premium subscriptions."
      ],
      "metadata": {
        "id": "EnCPpI8bZ_Ux"
      }
    },
    {
      "cell_type": "markdown",
      "source": [
        "__Does the plan influence the duration?__"
      ],
      "metadata": {
        "id": "1ljyU6gDSxcF"
      }
    },
    {
      "cell_type": "code",
      "source": [
        "# Checking if each plan has its own duration\n",
        "\n",
        "final_subscriptn_data[[\"CustomerID\", \"Plan\", \"Duration\"]].drop_duplicates().groupby([\"Plan\", \"Duration\"])[[\"CustomerID\"]].count()\n",
        "\n",
        "#.reset_index().rename({\"CustomerID\": \"Num_of_Subscribers\"}, axis = 1).sort_values(\"Num_of_Subscribers\", ascending = False)"
      ],
      "metadata": {
        "colab": {
          "base_uri": "https://localhost:8080/",
          "height": 1000
        },
        "id": "LDxxif4LS0zE",
        "outputId": "f9430d2b-f3dd-4be3-8bc3-346b998164f2"
      },
      "execution_count": 41,
      "outputs": [
        {
          "output_type": "execute_result",
          "data": {
            "text/plain": [
              "                  CustomerID\n",
              "Plan    Duration            \n",
              "Basic   1                 32\n",
              "        2                 61\n",
              "        3                 79\n",
              "        4                 77\n",
              "        5                 63\n",
              "        6                 67\n",
              "        7                 67\n",
              "        8                 68\n",
              "        9                 75\n",
              "        10                50\n",
              "        11                70\n",
              "        12                29\n",
              "Elite   1                 35\n",
              "        2                 72\n",
              "        3                 59\n",
              "        4                 66\n",
              "        5                 81\n",
              "        6                 63\n",
              "        7                 58\n",
              "        8                 68\n",
              "        9                 74\n",
              "        10                76\n",
              "        11                63\n",
              "        12                30\n",
              "Premium 1                 68\n",
              "        2                144\n",
              "        3                133\n",
              "        4                137\n",
              "        5                135\n",
              "        6                148\n",
              "        7                140\n",
              "        8                131\n",
              "        9                153\n",
              "        10               140\n",
              "        11               126\n",
              "        12                62"
            ],
            "text/html": [
              "\n",
              "  <div id=\"df-12ec5cfe-d897-49ad-bc98-48e250bea464\">\n",
              "    <div class=\"colab-df-container\">\n",
              "      <div>\n",
              "<style scoped>\n",
              "    .dataframe tbody tr th:only-of-type {\n",
              "        vertical-align: middle;\n",
              "    }\n",
              "\n",
              "    .dataframe tbody tr th {\n",
              "        vertical-align: top;\n",
              "    }\n",
              "\n",
              "    .dataframe thead th {\n",
              "        text-align: right;\n",
              "    }\n",
              "</style>\n",
              "<table border=\"1\" class=\"dataframe\">\n",
              "  <thead>\n",
              "    <tr style=\"text-align: right;\">\n",
              "      <th></th>\n",
              "      <th></th>\n",
              "      <th>CustomerID</th>\n",
              "    </tr>\n",
              "    <tr>\n",
              "      <th>Plan</th>\n",
              "      <th>Duration</th>\n",
              "      <th></th>\n",
              "    </tr>\n",
              "  </thead>\n",
              "  <tbody>\n",
              "    <tr>\n",
              "      <th rowspan=\"12\" valign=\"top\">Basic</th>\n",
              "      <th>1</th>\n",
              "      <td>32</td>\n",
              "    </tr>\n",
              "    <tr>\n",
              "      <th>2</th>\n",
              "      <td>61</td>\n",
              "    </tr>\n",
              "    <tr>\n",
              "      <th>3</th>\n",
              "      <td>79</td>\n",
              "    </tr>\n",
              "    <tr>\n",
              "      <th>4</th>\n",
              "      <td>77</td>\n",
              "    </tr>\n",
              "    <tr>\n",
              "      <th>5</th>\n",
              "      <td>63</td>\n",
              "    </tr>\n",
              "    <tr>\n",
              "      <th>6</th>\n",
              "      <td>67</td>\n",
              "    </tr>\n",
              "    <tr>\n",
              "      <th>7</th>\n",
              "      <td>67</td>\n",
              "    </tr>\n",
              "    <tr>\n",
              "      <th>8</th>\n",
              "      <td>68</td>\n",
              "    </tr>\n",
              "    <tr>\n",
              "      <th>9</th>\n",
              "      <td>75</td>\n",
              "    </tr>\n",
              "    <tr>\n",
              "      <th>10</th>\n",
              "      <td>50</td>\n",
              "    </tr>\n",
              "    <tr>\n",
              "      <th>11</th>\n",
              "      <td>70</td>\n",
              "    </tr>\n",
              "    <tr>\n",
              "      <th>12</th>\n",
              "      <td>29</td>\n",
              "    </tr>\n",
              "    <tr>\n",
              "      <th rowspan=\"12\" valign=\"top\">Elite</th>\n",
              "      <th>1</th>\n",
              "      <td>35</td>\n",
              "    </tr>\n",
              "    <tr>\n",
              "      <th>2</th>\n",
              "      <td>72</td>\n",
              "    </tr>\n",
              "    <tr>\n",
              "      <th>3</th>\n",
              "      <td>59</td>\n",
              "    </tr>\n",
              "    <tr>\n",
              "      <th>4</th>\n",
              "      <td>66</td>\n",
              "    </tr>\n",
              "    <tr>\n",
              "      <th>5</th>\n",
              "      <td>81</td>\n",
              "    </tr>\n",
              "    <tr>\n",
              "      <th>6</th>\n",
              "      <td>63</td>\n",
              "    </tr>\n",
              "    <tr>\n",
              "      <th>7</th>\n",
              "      <td>58</td>\n",
              "    </tr>\n",
              "    <tr>\n",
              "      <th>8</th>\n",
              "      <td>68</td>\n",
              "    </tr>\n",
              "    <tr>\n",
              "      <th>9</th>\n",
              "      <td>74</td>\n",
              "    </tr>\n",
              "    <tr>\n",
              "      <th>10</th>\n",
              "      <td>76</td>\n",
              "    </tr>\n",
              "    <tr>\n",
              "      <th>11</th>\n",
              "      <td>63</td>\n",
              "    </tr>\n",
              "    <tr>\n",
              "      <th>12</th>\n",
              "      <td>30</td>\n",
              "    </tr>\n",
              "    <tr>\n",
              "      <th rowspan=\"12\" valign=\"top\">Premium</th>\n",
              "      <th>1</th>\n",
              "      <td>68</td>\n",
              "    </tr>\n",
              "    <tr>\n",
              "      <th>2</th>\n",
              "      <td>144</td>\n",
              "    </tr>\n",
              "    <tr>\n",
              "      <th>3</th>\n",
              "      <td>133</td>\n",
              "    </tr>\n",
              "    <tr>\n",
              "      <th>4</th>\n",
              "      <td>137</td>\n",
              "    </tr>\n",
              "    <tr>\n",
              "      <th>5</th>\n",
              "      <td>135</td>\n",
              "    </tr>\n",
              "    <tr>\n",
              "      <th>6</th>\n",
              "      <td>148</td>\n",
              "    </tr>\n",
              "    <tr>\n",
              "      <th>7</th>\n",
              "      <td>140</td>\n",
              "    </tr>\n",
              "    <tr>\n",
              "      <th>8</th>\n",
              "      <td>131</td>\n",
              "    </tr>\n",
              "    <tr>\n",
              "      <th>9</th>\n",
              "      <td>153</td>\n",
              "    </tr>\n",
              "    <tr>\n",
              "      <th>10</th>\n",
              "      <td>140</td>\n",
              "    </tr>\n",
              "    <tr>\n",
              "      <th>11</th>\n",
              "      <td>126</td>\n",
              "    </tr>\n",
              "    <tr>\n",
              "      <th>12</th>\n",
              "      <td>62</td>\n",
              "    </tr>\n",
              "  </tbody>\n",
              "</table>\n",
              "</div>\n",
              "      <button class=\"colab-df-convert\" onclick=\"convertToInteractive('df-12ec5cfe-d897-49ad-bc98-48e250bea464')\"\n",
              "              title=\"Convert this dataframe to an interactive table.\"\n",
              "              style=\"display:none;\">\n",
              "        \n",
              "  <svg xmlns=\"http://www.w3.org/2000/svg\" height=\"24px\"viewBox=\"0 0 24 24\"\n",
              "       width=\"24px\">\n",
              "    <path d=\"M0 0h24v24H0V0z\" fill=\"none\"/>\n",
              "    <path d=\"M18.56 5.44l.94 2.06.94-2.06 2.06-.94-2.06-.94-.94-2.06-.94 2.06-2.06.94zm-11 1L8.5 8.5l.94-2.06 2.06-.94-2.06-.94L8.5 2.5l-.94 2.06-2.06.94zm10 10l.94 2.06.94-2.06 2.06-.94-2.06-.94-.94-2.06-.94 2.06-2.06.94z\"/><path d=\"M17.41 7.96l-1.37-1.37c-.4-.4-.92-.59-1.43-.59-.52 0-1.04.2-1.43.59L10.3 9.45l-7.72 7.72c-.78.78-.78 2.05 0 2.83L4 21.41c.39.39.9.59 1.41.59.51 0 1.02-.2 1.41-.59l7.78-7.78 2.81-2.81c.8-.78.8-2.07 0-2.86zM5.41 20L4 18.59l7.72-7.72 1.47 1.35L5.41 20z\"/>\n",
              "  </svg>\n",
              "      </button>\n",
              "      \n",
              "  <style>\n",
              "    .colab-df-container {\n",
              "      display:flex;\n",
              "      flex-wrap:wrap;\n",
              "      gap: 12px;\n",
              "    }\n",
              "\n",
              "    .colab-df-convert {\n",
              "      background-color: #E8F0FE;\n",
              "      border: none;\n",
              "      border-radius: 50%;\n",
              "      cursor: pointer;\n",
              "      display: none;\n",
              "      fill: #1967D2;\n",
              "      height: 32px;\n",
              "      padding: 0 0 0 0;\n",
              "      width: 32px;\n",
              "    }\n",
              "\n",
              "    .colab-df-convert:hover {\n",
              "      background-color: #E2EBFA;\n",
              "      box-shadow: 0px 1px 2px rgba(60, 64, 67, 0.3), 0px 1px 3px 1px rgba(60, 64, 67, 0.15);\n",
              "      fill: #174EA6;\n",
              "    }\n",
              "\n",
              "    [theme=dark] .colab-df-convert {\n",
              "      background-color: #3B4455;\n",
              "      fill: #D2E3FC;\n",
              "    }\n",
              "\n",
              "    [theme=dark] .colab-df-convert:hover {\n",
              "      background-color: #434B5C;\n",
              "      box-shadow: 0px 1px 3px 1px rgba(0, 0, 0, 0.15);\n",
              "      filter: drop-shadow(0px 1px 2px rgba(0, 0, 0, 0.3));\n",
              "      fill: #FFFFFF;\n",
              "    }\n",
              "  </style>\n",
              "\n",
              "      <script>\n",
              "        const buttonEl =\n",
              "          document.querySelector('#df-12ec5cfe-d897-49ad-bc98-48e250bea464 button.colab-df-convert');\n",
              "        buttonEl.style.display =\n",
              "          google.colab.kernel.accessAllowed ? 'block' : 'none';\n",
              "\n",
              "        async function convertToInteractive(key) {\n",
              "          const element = document.querySelector('#df-12ec5cfe-d897-49ad-bc98-48e250bea464');\n",
              "          const dataTable =\n",
              "            await google.colab.kernel.invokeFunction('convertToInteractive',\n",
              "                                                     [key], {});\n",
              "          if (!dataTable) return;\n",
              "\n",
              "          const docLinkHtml = 'Like what you see? Visit the ' +\n",
              "            '<a target=\"_blank\" href=https://colab.research.google.com/notebooks/data_table.ipynb>data table notebook</a>'\n",
              "            + ' to learn more about interactive tables.';\n",
              "          element.innerHTML = '';\n",
              "          dataTable['output_type'] = 'display_data';\n",
              "          await google.colab.output.renderOutput(dataTable, element);\n",
              "          const docLink = document.createElement('div');\n",
              "          docLink.innerHTML = docLinkHtml;\n",
              "          element.appendChild(docLink);\n",
              "        }\n",
              "      </script>\n",
              "    </div>\n",
              "  </div>\n",
              "  "
            ]
          },
          "metadata": {},
          "execution_count": 41
        }
      ]
    },
    {
      "cell_type": "markdown",
      "source": [
        "No, the plan does not determine the duration. There are 12-month-long basic subscribers and there are elite subscriptions that only last for a month.\n",
        "\n",
        "Compared to other durations, 1-month-long and 12-month-long subscriptions are the least common."
      ],
      "metadata": {
        "id": "DGL6XT1lYo6U"
      }
    },
    {
      "cell_type": "markdown",
      "source": [
        "__Which subscription plan has brought in the most revenue?__\n",
        "\n",
        "Although we already know that the premium plan has the most subscribers, however, we also know that the elite plan is the most expensive- twice as expensive as the premium plan- even though it has just about half the number of subscribers as that of the premium plan. Therefore, it does stand a chance to bring in more revenue than the premium plan would. So, let's check confirm."
      ],
      "metadata": {
        "id": "9fn5p_xYRZXB"
      }
    },
    {
      "cell_type": "code",
      "source": [
        "# Revenue per subscription plan.\n",
        "\n",
        "final_subscriptn_data[[\"CustomerID\", \"Plan\", \"Monthly_Cost\"]].drop_duplicates().groupby(\"Plan\")[[\"Monthly_Cost\"]].sum().reset_index().rename({\"Monthly_Cost\": \"Total_Revenue\"}, axis = 1).sort_values(\"Total_Revenue\", ascending = False)"
      ],
      "metadata": {
        "id": "r10-XzExRfQT",
        "colab": {
          "base_uri": "https://localhost:8080/",
          "height": 143
        },
        "outputId": "8c7697aa-1ea8-4393-f877-347ecfe0e0a8"
      },
      "execution_count": 57,
      "outputs": [
        {
          "output_type": "execute_result",
          "data": {
            "text/plain": [
              "      Plan  Total_Revenue\n",
              "2  Premium        7585000\n",
              "1    Elite        7450000\n",
              "0    Basic        1845000"
            ],
            "text/html": [
              "\n",
              "  <div id=\"df-10f0188a-5ad4-4ad9-a842-5b0736ab4ef7\">\n",
              "    <div class=\"colab-df-container\">\n",
              "      <div>\n",
              "<style scoped>\n",
              "    .dataframe tbody tr th:only-of-type {\n",
              "        vertical-align: middle;\n",
              "    }\n",
              "\n",
              "    .dataframe tbody tr th {\n",
              "        vertical-align: top;\n",
              "    }\n",
              "\n",
              "    .dataframe thead th {\n",
              "        text-align: right;\n",
              "    }\n",
              "</style>\n",
              "<table border=\"1\" class=\"dataframe\">\n",
              "  <thead>\n",
              "    <tr style=\"text-align: right;\">\n",
              "      <th></th>\n",
              "      <th>Plan</th>\n",
              "      <th>Total_Revenue</th>\n",
              "    </tr>\n",
              "  </thead>\n",
              "  <tbody>\n",
              "    <tr>\n",
              "      <th>2</th>\n",
              "      <td>Premium</td>\n",
              "      <td>7585000</td>\n",
              "    </tr>\n",
              "    <tr>\n",
              "      <th>1</th>\n",
              "      <td>Elite</td>\n",
              "      <td>7450000</td>\n",
              "    </tr>\n",
              "    <tr>\n",
              "      <th>0</th>\n",
              "      <td>Basic</td>\n",
              "      <td>1845000</td>\n",
              "    </tr>\n",
              "  </tbody>\n",
              "</table>\n",
              "</div>\n",
              "      <button class=\"colab-df-convert\" onclick=\"convertToInteractive('df-10f0188a-5ad4-4ad9-a842-5b0736ab4ef7')\"\n",
              "              title=\"Convert this dataframe to an interactive table.\"\n",
              "              style=\"display:none;\">\n",
              "        \n",
              "  <svg xmlns=\"http://www.w3.org/2000/svg\" height=\"24px\"viewBox=\"0 0 24 24\"\n",
              "       width=\"24px\">\n",
              "    <path d=\"M0 0h24v24H0V0z\" fill=\"none\"/>\n",
              "    <path d=\"M18.56 5.44l.94 2.06.94-2.06 2.06-.94-2.06-.94-.94-2.06-.94 2.06-2.06.94zm-11 1L8.5 8.5l.94-2.06 2.06-.94-2.06-.94L8.5 2.5l-.94 2.06-2.06.94zm10 10l.94 2.06.94-2.06 2.06-.94-2.06-.94-.94-2.06-.94 2.06-2.06.94z\"/><path d=\"M17.41 7.96l-1.37-1.37c-.4-.4-.92-.59-1.43-.59-.52 0-1.04.2-1.43.59L10.3 9.45l-7.72 7.72c-.78.78-.78 2.05 0 2.83L4 21.41c.39.39.9.59 1.41.59.51 0 1.02-.2 1.41-.59l7.78-7.78 2.81-2.81c.8-.78.8-2.07 0-2.86zM5.41 20L4 18.59l7.72-7.72 1.47 1.35L5.41 20z\"/>\n",
              "  </svg>\n",
              "      </button>\n",
              "      \n",
              "  <style>\n",
              "    .colab-df-container {\n",
              "      display:flex;\n",
              "      flex-wrap:wrap;\n",
              "      gap: 12px;\n",
              "    }\n",
              "\n",
              "    .colab-df-convert {\n",
              "      background-color: #E8F0FE;\n",
              "      border: none;\n",
              "      border-radius: 50%;\n",
              "      cursor: pointer;\n",
              "      display: none;\n",
              "      fill: #1967D2;\n",
              "      height: 32px;\n",
              "      padding: 0 0 0 0;\n",
              "      width: 32px;\n",
              "    }\n",
              "\n",
              "    .colab-df-convert:hover {\n",
              "      background-color: #E2EBFA;\n",
              "      box-shadow: 0px 1px 2px rgba(60, 64, 67, 0.3), 0px 1px 3px 1px rgba(60, 64, 67, 0.15);\n",
              "      fill: #174EA6;\n",
              "    }\n",
              "\n",
              "    [theme=dark] .colab-df-convert {\n",
              "      background-color: #3B4455;\n",
              "      fill: #D2E3FC;\n",
              "    }\n",
              "\n",
              "    [theme=dark] .colab-df-convert:hover {\n",
              "      background-color: #434B5C;\n",
              "      box-shadow: 0px 1px 3px 1px rgba(0, 0, 0, 0.15);\n",
              "      filter: drop-shadow(0px 1px 2px rgba(0, 0, 0, 0.3));\n",
              "      fill: #FFFFFF;\n",
              "    }\n",
              "  </style>\n",
              "\n",
              "      <script>\n",
              "        const buttonEl =\n",
              "          document.querySelector('#df-10f0188a-5ad4-4ad9-a842-5b0736ab4ef7 button.colab-df-convert');\n",
              "        buttonEl.style.display =\n",
              "          google.colab.kernel.accessAllowed ? 'block' : 'none';\n",
              "\n",
              "        async function convertToInteractive(key) {\n",
              "          const element = document.querySelector('#df-10f0188a-5ad4-4ad9-a842-5b0736ab4ef7');\n",
              "          const dataTable =\n",
              "            await google.colab.kernel.invokeFunction('convertToInteractive',\n",
              "                                                     [key], {});\n",
              "          if (!dataTable) return;\n",
              "\n",
              "          const docLinkHtml = 'Like what you see? Visit the ' +\n",
              "            '<a target=\"_blank\" href=https://colab.research.google.com/notebooks/data_table.ipynb>data table notebook</a>'\n",
              "            + ' to learn more about interactive tables.';\n",
              "          element.innerHTML = '';\n",
              "          dataTable['output_type'] = 'display_data';\n",
              "          await google.colab.output.renderOutput(dataTable, element);\n",
              "          const docLink = document.createElement('div');\n",
              "          docLink.innerHTML = docLinkHtml;\n",
              "          element.appendChild(docLink);\n",
              "        }\n",
              "      </script>\n",
              "    </div>\n",
              "  </div>\n",
              "  "
            ]
          },
          "metadata": {},
          "execution_count": 57
        }
      ]
    },
    {
      "cell_type": "markdown",
      "source": [
        "The premium plan has brought in the most revenue. However, we cannot ignore that revenue from the elite subscription, even with the number of subscribers as low as half that of premium subscibers, comes really close."
      ],
      "metadata": {
        "id": "kUbMvi5SfefI"
      }
    },
    {
      "cell_type": "code",
      "source": [],
      "metadata": {
        "id": "ei0RQlapnli9"
      },
      "execution_count": 41,
      "outputs": []
    },
    {
      "cell_type": "code",
      "source": [
        "\n",
        "views.Genre.value_counts()"
      ],
      "metadata": {
        "colab": {
          "base_uri": "https://localhost:8080/"
        },
        "id": "fXkE23vYwc4K",
        "outputId": "e3e196f5-22ca-471b-af16-4770ab786f98"
      },
      "execution_count": 42,
      "outputs": [
        {
          "output_type": "execute_result",
          "data": {
            "text/plain": [
              "Comedy           916\n",
              "Talk-Shows       490\n",
              "News             457\n",
              "Reality          456\n",
              "Cartoons         452\n",
              "Sports           448\n",
              "Music            447\n",
              "Documentaries    440\n",
              "Action           439\n",
              "Drama            247\n",
              "Religion         208\n",
              "Name: Genre, dtype: int64"
            ]
          },
          "metadata": {},
          "execution_count": 42
        }
      ]
    },
    {
      "cell_type": "code",
      "source": [],
      "metadata": {
        "id": "Ikh_A1u61y2T"
      },
      "execution_count": 42,
      "outputs": []
    },
    {
      "cell_type": "code",
      "source": [],
      "metadata": {
        "id": "_XDOL_x8n-1M"
      },
      "execution_count": 42,
      "outputs": []
    }
  ]
}